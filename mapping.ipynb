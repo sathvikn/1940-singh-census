{
 "cells": [
  {
   "cell_type": "code",
   "execution_count": 1,
   "metadata": {},
   "outputs": [],
   "source": [
    "import pandas as pd\n",
    "import numpy as np\n",
    "from matplotlib import pyplot as plt\n",
    "import plotly\n",
    "import plotly.plotly as py\n",
    "import plotly.figure_factory as ff\n",
    "import plotly.graph_objs as go\n",
    "#plotly.tools.set_credentials_file(username='', api_key='')\n"
   ]
  },
  {
   "cell_type": "code",
   "execution_count": 2,
   "metadata": {},
   "outputs": [
    {
     "data": {
      "text/plain": [
       "Index(['age', 'birthPlace', 'birthPlaceGeocodedData', 'birthPlaceNormalized',\n",
       "       'birthYearApprox', 'censusLocation', 'censusLocationGeocodedData',\n",
       "       'censusLocationNormalized', 'children', 'gender', 'identifier',\n",
       "       'inferredGroups', 'maritalStatus', 'name', 'parents', 'raceRecorded',\n",
       "       'raceRecordedNormalized', 'relationshipToHead', 'siblings', 'spouse'],\n",
       "      dtype='object')"
      ]
     },
     "execution_count": 2,
     "metadata": {},
     "output_type": "execute_result"
    }
   ],
   "source": [
    "geo_data = pd.read_json('1940_singh_census_with_geodata.json')\n",
    "geo_data.columns"
   ]
  },
  {
   "cell_type": "code",
   "execution_count": 3,
   "metadata": {},
   "outputs": [
    {
     "data": {
      "text/plain": [
       "962"
      ]
     },
     "execution_count": 3,
     "metadata": {},
     "output_type": "execute_result"
    }
   ],
   "source": [
    "len(geo_data.index)"
   ]
  },
  {
   "cell_type": "code",
   "execution_count": 4,
   "metadata": {},
   "outputs": [
    {
     "data": {
      "text/plain": [
       "{'address': {'country': 'United States of America',\n",
       "  'country_code': 'us',\n",
       "  'county': 'Maricopa County',\n",
       "  'state': 'Arizona'},\n",
       " 'boundingbox': ['32.5049739', '34.04739', '-113.333755', '-111.0399049'],\n",
       " 'class': 'boundary',\n",
       " 'display_name': 'Maricopa County, Arizona, United States of America',\n",
       " 'icon': 'http://nominatim.openstreetmap.org/images/mapicons/poi_boundary_administrative.p.20.png',\n",
       " 'importance': '0.94083416919723',\n",
       " 'lat': '33.34883',\n",
       " 'licence': 'Data © OpenStreetMap contributors, ODbL 1.0. http://www.openstreetmap.org/copyright',\n",
       " 'lon': '-112.49123',\n",
       " 'osm_id': '1832201',\n",
       " 'osm_type': 'relation',\n",
       " 'type': 'administrative'}"
      ]
     },
     "execution_count": 4,
     "metadata": {},
     "output_type": "execute_result"
    }
   ],
   "source": [
    "geo_data['censusLocationGeocodedData'][0]"
   ]
  },
  {
   "cell_type": "code",
   "execution_count": 5,
   "metadata": {},
   "outputs": [
    {
     "data": {
      "text/plain": [
       "dict"
      ]
     },
     "execution_count": 5,
     "metadata": {},
     "output_type": "execute_result"
    }
   ],
   "source": [
    "type(geo_data['censusLocationGeocodedData'][0])"
   ]
  },
  {
   "cell_type": "code",
   "execution_count": 6,
   "metadata": {},
   "outputs": [],
   "source": [
    "coords = [{'lat': data['lat'], 'lon': data['lon'], 'name': data['display_name'], 'county': data['address']['county']} for data in geo_data['censusLocationGeocodedData']]\n",
    "coords_df = pd.DataFrame(coords)"
   ]
  },
  {
   "cell_type": "code",
   "execution_count": 7,
   "metadata": {},
   "outputs": [
    {
     "data": {
      "text/html": [
       "<div>\n",
       "<style scoped>\n",
       "    .dataframe tbody tr th:only-of-type {\n",
       "        vertical-align: middle;\n",
       "    }\n",
       "\n",
       "    .dataframe tbody tr th {\n",
       "        vertical-align: top;\n",
       "    }\n",
       "\n",
       "    .dataframe thead th {\n",
       "        text-align: right;\n",
       "    }\n",
       "</style>\n",
       "<table border=\"1\" class=\"dataframe\">\n",
       "  <thead>\n",
       "    <tr style=\"text-align: right;\">\n",
       "      <th></th>\n",
       "      <th>county</th>\n",
       "      <th>lat</th>\n",
       "      <th>lon</th>\n",
       "      <th>name</th>\n",
       "    </tr>\n",
       "  </thead>\n",
       "  <tbody>\n",
       "    <tr>\n",
       "      <th>0</th>\n",
       "      <td>Maricopa County</td>\n",
       "      <td>33.34883</td>\n",
       "      <td>-112.49123</td>\n",
       "      <td>Maricopa County, Arizona, United States of Ame...</td>\n",
       "    </tr>\n",
       "    <tr>\n",
       "      <th>1</th>\n",
       "      <td>Maricopa County</td>\n",
       "      <td>33.34883</td>\n",
       "      <td>-112.49123</td>\n",
       "      <td>Maricopa County, Arizona, United States of Ame...</td>\n",
       "    </tr>\n",
       "    <tr>\n",
       "      <th>2</th>\n",
       "      <td>Maricopa County</td>\n",
       "      <td>33.34883</td>\n",
       "      <td>-112.49123</td>\n",
       "      <td>Maricopa County, Arizona, United States of Ame...</td>\n",
       "    </tr>\n",
       "    <tr>\n",
       "      <th>3</th>\n",
       "      <td>Maricopa County</td>\n",
       "      <td>33.34883</td>\n",
       "      <td>-112.49123</td>\n",
       "      <td>Maricopa County, Arizona, United States of Ame...</td>\n",
       "    </tr>\n",
       "    <tr>\n",
       "      <th>4</th>\n",
       "      <td>Maricopa County</td>\n",
       "      <td>33.34883</td>\n",
       "      <td>-112.49123</td>\n",
       "      <td>Maricopa County, Arizona, United States of Ame...</td>\n",
       "    </tr>\n",
       "  </tbody>\n",
       "</table>\n",
       "</div>"
      ],
      "text/plain": [
       "            county       lat         lon  \\\n",
       "0  Maricopa County  33.34883  -112.49123   \n",
       "1  Maricopa County  33.34883  -112.49123   \n",
       "2  Maricopa County  33.34883  -112.49123   \n",
       "3  Maricopa County  33.34883  -112.49123   \n",
       "4  Maricopa County  33.34883  -112.49123   \n",
       "\n",
       "                                                name  \n",
       "0  Maricopa County, Arizona, United States of Ame...  \n",
       "1  Maricopa County, Arizona, United States of Ame...  \n",
       "2  Maricopa County, Arizona, United States of Ame...  \n",
       "3  Maricopa County, Arizona, United States of Ame...  \n",
       "4  Maricopa County, Arizona, United States of Ame...  "
      ]
     },
     "execution_count": 7,
     "metadata": {},
     "output_type": "execute_result"
    }
   ],
   "source": [
    "coords_df.head()"
   ]
  },
  {
   "cell_type": "code",
   "execution_count": 8,
   "metadata": {},
   "outputs": [
    {
     "data": {
      "text/html": [
       "<div>\n",
       "<style scoped>\n",
       "    .dataframe tbody tr th:only-of-type {\n",
       "        vertical-align: middle;\n",
       "    }\n",
       "\n",
       "    .dataframe tbody tr th {\n",
       "        vertical-align: top;\n",
       "    }\n",
       "\n",
       "    .dataframe thead th {\n",
       "        text-align: right;\n",
       "    }\n",
       "</style>\n",
       "<table border=\"1\" class=\"dataframe\">\n",
       "  <thead>\n",
       "    <tr style=\"text-align: right;\">\n",
       "      <th></th>\n",
       "      <th>state</th>\n",
       "      <th>state_code</th>\n",
       "      <th>county_code</th>\n",
       "      <th>county</th>\n",
       "      <th>fips_class_code</th>\n",
       "    </tr>\n",
       "  </thead>\n",
       "  <tbody>\n",
       "    <tr>\n",
       "      <th>0</th>\n",
       "      <td>AL</td>\n",
       "      <td>1</td>\n",
       "      <td>1</td>\n",
       "      <td>Autauga County</td>\n",
       "      <td>H1</td>\n",
       "    </tr>\n",
       "    <tr>\n",
       "      <th>1</th>\n",
       "      <td>AL</td>\n",
       "      <td>1</td>\n",
       "      <td>3</td>\n",
       "      <td>Baldwin County</td>\n",
       "      <td>H1</td>\n",
       "    </tr>\n",
       "    <tr>\n",
       "      <th>2</th>\n",
       "      <td>AL</td>\n",
       "      <td>1</td>\n",
       "      <td>5</td>\n",
       "      <td>Barbour County</td>\n",
       "      <td>H1</td>\n",
       "    </tr>\n",
       "    <tr>\n",
       "      <th>3</th>\n",
       "      <td>AL</td>\n",
       "      <td>1</td>\n",
       "      <td>7</td>\n",
       "      <td>Bibb County</td>\n",
       "      <td>H1</td>\n",
       "    </tr>\n",
       "    <tr>\n",
       "      <th>4</th>\n",
       "      <td>AL</td>\n",
       "      <td>1</td>\n",
       "      <td>9</td>\n",
       "      <td>Blount County</td>\n",
       "      <td>H1</td>\n",
       "    </tr>\n",
       "  </tbody>\n",
       "</table>\n",
       "</div>"
      ],
      "text/plain": [
       "  state  state_code  county_code          county fips_class_code\n",
       "0    AL           1            1  Autauga County              H1\n",
       "1    AL           1            3  Baldwin County              H1\n",
       "2    AL           1            5  Barbour County              H1\n",
       "3    AL           1            7     Bibb County              H1\n",
       "4    AL           1            9   Blount County              H1"
      ]
     },
     "execution_count": 8,
     "metadata": {},
     "output_type": "execute_result"
    }
   ],
   "source": [
    "fips_mapping = pd.read_csv('fips.csv')\n",
    "fips_mapping.head()"
   ]
  },
  {
   "cell_type": "code",
   "execution_count": 9,
   "metadata": {},
   "outputs": [
    {
     "name": "stdout",
     "output_type": "stream",
     "text": [
      "Doña Ana County\n",
      "Doña Ana County\n",
      "Doña Ana County\n",
      "Doña Ana County\n",
      "Doña Ana County\n",
      "Manhattan\n",
      "Manhattan\n",
      "Manhattan\n",
      "New York\n"
     ]
    }
   ],
   "source": [
    "for i in coords_df.county:\n",
    "    if i not in fips_mapping['county'].values:\n",
    "        print(i)"
   ]
  },
  {
   "cell_type": "code",
   "execution_count": 10,
   "metadata": {},
   "outputs": [],
   "source": [
    "modern_county_mapping = {'New York': 'New York County', 'Manhattan': \n",
    "                         'New York County', 'Doña Ana County': 'Dona Ana County'}\n",
    "replace_county = lambda name: modern_county_mapping[name] if name in modern_county_mapping else name"
   ]
  },
  {
   "cell_type": "code",
   "execution_count": 11,
   "metadata": {},
   "outputs": [],
   "source": [
    "coords_df['county'] = [replace_county(i) for i in coords_df['county']]"
   ]
  },
  {
   "cell_type": "code",
   "execution_count": 101,
   "metadata": {},
   "outputs": [
    {
     "data": {
      "text/plain": [
       "(1342, 9)"
      ]
     },
     "execution_count": 101,
     "metadata": {},
     "output_type": "execute_result"
    }
   ],
   "source": [
    "coords_df.merge(fips_mapping, on='county', how='left').shape"
   ]
  },
  {
   "cell_type": "markdown",
   "metadata": {},
   "source": [
    "There were 962 rows in the original dataframe, so we should look at joining by county and state name."
   ]
  },
  {
   "cell_type": "code",
   "execution_count": 13,
   "metadata": {},
   "outputs": [],
   "source": [
    "us_state_abbrev = {\n",
    "    'Alabama': 'AL',\n",
    "    'Alaska': 'AK',\n",
    "    'Arizona': 'AZ',\n",
    "    'Arkansas': 'AR',\n",
    "    'California': 'CA',\n",
    "    'Colorado': 'CO',\n",
    "    'Connecticut': 'CT',\n",
    "    'Delaware': 'DE',\n",
    "    'Florida': 'FL',\n",
    "    'Georgia': 'GA',\n",
    "    'Hawaii': 'HI',\n",
    "    'Idaho': 'ID',\n",
    "    'Illinois': 'IL',\n",
    "    'Indiana': 'IN',\n",
    "    'Iowa': 'IA',\n",
    "    'Kansas': 'KS',\n",
    "    'Kentucky': 'KY',\n",
    "    'Louisiana': 'LA',\n",
    "    'Maine': 'ME',\n",
    "    'Maryland': 'MD',\n",
    "    'Massachusetts': 'MA',\n",
    "    'Michigan': 'MI',\n",
    "    'Minnesota': 'MN',\n",
    "    'Mississippi': 'MS',\n",
    "    'Missouri': 'MO',\n",
    "    'Montana': 'MT',\n",
    "    'Nebraska': 'NE',\n",
    "    'Nevada': 'NV',\n",
    "    'New Hampshire': 'NH',\n",
    "    'New Jersey': 'NJ',\n",
    "    'New Mexico': 'NM',\n",
    "    'New York': 'NY',\n",
    "    'North Carolina': 'NC',\n",
    "    'North Dakota': 'ND',\n",
    "    'Ohio': 'OH',\n",
    "    'Oklahoma': 'OK',\n",
    "    'Oregon': 'OR',\n",
    "    'Pennsylvania': 'PA',\n",
    "    'Rhode Island': 'RI',\n",
    "    'South Carolina': 'SC',\n",
    "    'South Dakota': 'SD',\n",
    "    'Tennessee': 'TN',\n",
    "    'Texas': 'TX',\n",
    "    'Utah': 'UT',\n",
    "    'Vermont': 'VT',\n",
    "    'Virginia': 'VA',\n",
    "    'Washington': 'WA',\n",
    "    'West Virginia': 'WV',\n",
    "    'Wisconsin': 'WI',\n",
    "    'Wyoming': 'WY',\n",
    "}"
   ]
  },
  {
   "cell_type": "code",
   "execution_count": 14,
   "metadata": {},
   "outputs": [],
   "source": [
    "state_code = [us_state_abbrev[data['address']['state']] for data in geo_data['censusLocationGeocodedData']]\n",
    "coords_df['state'] = state_code"
   ]
  },
  {
   "cell_type": "code",
   "execution_count": 15,
   "metadata": {},
   "outputs": [
    {
     "data": {
      "text/plain": [
       "Index(['county', 'lat', 'lon', 'name', 'state', 'state_code', 'county_code',\n",
       "       'fips_class_code'],\n",
       "      dtype='object')"
      ]
     },
     "execution_count": 15,
     "metadata": {},
     "output_type": "execute_result"
    }
   ],
   "source": [
    "coords_fips = coords_df.merge(fips_mapping, on=['state', 'county'], how='left')\n",
    "coords_fips.columns"
   ]
  },
  {
   "cell_type": "code",
   "execution_count": 16,
   "metadata": {},
   "outputs": [],
   "source": [
    "state_codes = coords_fips['state_code'].astype(str)\n",
    "county_codes = coords_fips['county_code'].astype(str)\n",
    "def combine_codes(state, county):\n",
    "    code_lst = []\n",
    "    for i in np.arange(len(state.index)):\n",
    "        complete_code = ''\n",
    "        if len(state[i]) == 1:\n",
    "            state[i] = '0' + state[i]\n",
    "        complete_code += state[i]\n",
    "        if len(county[i]) != 3:\n",
    "            county[i] = ('0' * (3 - len(county[i]))) + county[i]\n",
    "        complete_code += county[i]\n",
    "        code_lst.append(complete_code)\n",
    "    return code_lst"
   ]
  },
  {
   "cell_type": "code",
   "execution_count": 17,
   "metadata": {},
   "outputs": [
    {
     "data": {
      "text/html": [
       "<iframe id=\"igraph\" scrolling=\"no\" style=\"border:none;\" seamless=\"seamless\" src=\"https://plot.ly/~sathvikn/44.embed\" height=\"450px\" width=\"900px\"></iframe>"
      ],
      "text/plain": [
       "<plotly.tools.PlotlyDisplay object>"
      ]
     },
     "execution_count": 17,
     "metadata": {},
     "output_type": "execute_result"
    }
   ],
   "source": [
    "from collections import Counter\n",
    "complete_fips = combine_codes(state_codes, county_codes)\n",
    "people_per_county = Counter(complete_fips)\n",
    "fips_codes = list(people_per_county.keys())\n",
    "counts = list(people_per_county.values())\n",
    "fig = ff.create_choropleth(fips=fips_codes, values=counts)\n",
    "py.iplot(fig)"
   ]
  },
  {
   "cell_type": "code",
   "execution_count": 18,
   "metadata": {},
   "outputs": [
    {
     "data": {
      "text/html": [
       "<iframe id=\"igraph\" scrolling=\"no\" style=\"border:none;\" seamless=\"seamless\" src=\"https://plot.ly/~sathvikn/46.embed\" height=\"450px\" width=\"900px\"></iframe>"
      ],
      "text/plain": [
       "<plotly.tools.PlotlyDisplay object>"
      ]
     },
     "execution_count": 18,
     "metadata": {},
     "output_type": "execute_result"
    }
   ],
   "source": [
    "ca_data = coords_fips[coords_fips['state'] == 'CA']\n",
    "ca_codes = combine_codes(pd.Series(ca_data['state_code'].astype(str).values, index=np.arange(len(ca_data.index))),\n",
    "              pd.Series(ca_data['county_code'].astype(str).values, index=np.arange(len(ca_data.index))))\n",
    "ca_per_county = Counter(ca_codes)\n",
    "fips_ca = list(ca_per_county.keys())\n",
    "counts_ca = list(ca_per_county.values())\n",
    "ca_fig = ff.create_choropleth(\n",
    "    fips=fips_ca, values=counts_ca, scope=['California'],\n",
    "    round_legend_values=True,\n",
    "    simplify_county=0, simplify_state=0,\n",
    "    county_outline={'color': 'rgb(15, 15, 55)', 'width': 0.5},\n",
    "    state_outline={'width': 1},\n",
    "    legend_title='pop. per county',\n",
    "    title='Population of People with Surname \"Singh\" in California (1940)')\n",
    "py.iplot(ca_fig)"
   ]
  },
  {
   "cell_type": "markdown",
   "metadata": {},
   "source": [
    "## Clustering"
   ]
  },
  {
   "cell_type": "markdown",
   "metadata": {},
   "source": [
    "First, we will look at the data at a glance, to see if we can find patterns by inspection. This will not be on a map, but rather on a coordinate plane."
   ]
  },
  {
   "cell_type": "code",
   "execution_count": 103,
   "metadata": {},
   "outputs": [
    {
     "data": {
      "text/plain": [
       "<matplotlib.collections.PathCollection at 0x1a12a09160>"
      ]
     },
     "execution_count": 103,
     "metadata": {},
     "output_type": "execute_result"
    },
    {
     "data": {
      "image/png": "[encoded data removed]",
      "text/plain": [
       "<matplotlib.figure.Figure at 0x1a1a500198>"
      ]
     },
     "metadata": {},
     "output_type": "display_data"
    }
   ],
   "source": [
    "features = ['lat', 'lon']\n",
    "ll_data = coords_df[features]\n",
    "ll_data['lat'] = ll_data['lat'].astype('float')\n",
    "ll_data['lon'] = ll_data['lon'].astype('float')\n",
    "plt.scatter(data['lon'], data['lat'])"
   ]
  },
  {
   "cell_type": "markdown",
   "metadata": {},
   "source": [
    "Because the data are already at the scale we want them, and because we want to visualize the clusters on the map, we will run the k-means algorithm for clustering. As $k$ is the number of clusters, we will use the \"elbow method\" to find the optimal value for $k$, by minimizing the function which relates the sum of the squared errors to the number of clusters. "
   ]
  },
  {
   "cell_type": "code",
   "execution_count": 104,
   "metadata": {},
   "outputs": [],
   "source": [
    "from sklearn import cluster"
   ]
  },
  {
   "cell_type": "code",
   "execution_count": 106,
   "metadata": {},
   "outputs": [
    {
     "data": {
      "text/plain": [
       "[<matplotlib.lines.Line2D at 0x1a1a829518>]"
      ]
     },
     "execution_count": 106,
     "metadata": {},
     "output_type": "execute_result"
    },
    {
     "data": {
      "image/png": "[encoded data removed]",
      "text/plain": [
       "<matplotlib.figure.Figure at 0x1a204ca630>"
      ]
     },
     "metadata": {},
     "output_type": "display_data"
    }
   ],
   "source": [
    "k_counts = np.arange(1, 10)\n",
    "sse = []\n",
    "for k in k_counts:\n",
    "    model = cluster.KMeans(n_clusters = k)\n",
    "    model = model.fit(ll_data)\n",
    "    sse.append(model.inertia_)\n",
    "plt.plot(k_counts, sse)"
   ]
  },
  {
   "cell_type": "markdown",
   "metadata": {},
   "source": [
    "The point of inflection in the curve appears to be somewhere between 2, 3, and 4. Let's first visualize the points on a coordinate grid, and then on a map."
   ]
  },
  {
   "cell_type": "code",
   "execution_count": 107,
   "metadata": {},
   "outputs": [],
   "source": [
    "def plot_clusters(k, data):\n",
    "    model = cluster.KMeans(n_clusters = k)\n",
    "    model = model.fit(data)\n",
    "    plt.scatter(data['lon'], data['lat'], c=model.labels_.astype(float))\n",
    "    print(Counter(model.labels_))\n",
    "    return model.labels_"
   ]
  },
  {
   "cell_type": "code",
   "execution_count": 108,
   "metadata": {},
   "outputs": [
    {
     "name": "stdout",
     "output_type": "stream",
     "text": [
      "Counter({0: 865, 1: 97})\n"
     ]
    },
    {
     "data": {
      "image/png": "[encoded data removed]",
      "text/plain": [
       "<matplotlib.figure.Figure at 0x1a1a820550>"
      ]
     },
     "metadata": {},
     "output_type": "display_data"
    }
   ],
   "source": [
    "two_clusters = plot_clusters(2, ll_data)"
   ]
  },
  {
   "cell_type": "code",
   "execution_count": 109,
   "metadata": {},
   "outputs": [
    {
     "name": "stdout",
     "output_type": "stream",
     "text": [
      "Counter({0: 522, 2: 353, 1: 87})\n"
     ]
    },
    {
     "data": {
      "image/png": "[encoded data removed]",
      "text/plain": [
       "<matplotlib.figure.Figure at 0x1a2098fba8>"
      ]
     },
     "metadata": {},
     "output_type": "display_data"
    }
   ],
   "source": [
    "three_clusters = plot_clusters(3, ll_data)"
   ]
  },
  {
   "cell_type": "code",
   "execution_count": 110,
   "metadata": {},
   "outputs": [
    {
     "name": "stdout",
     "output_type": "stream",
     "text": [
      "Counter({3: 508, 0: 321, 1: 81, 2: 52})\n"
     ]
    },
    {
     "data": {
      "image/png": "[encoded data removed]",
      "text/plain": [
       "<matplotlib.figure.Figure at 0x1a1a2cf080>"
      ]
     },
     "metadata": {},
     "output_type": "display_data"
    }
   ],
   "source": [
    "four_clusters = plot_clusters(4, ll_data)"
   ]
  },
  {
   "cell_type": "code",
   "execution_count": 112,
   "metadata": {},
   "outputs": [],
   "source": [
    "def add_cluster_col(name, labels, data):\n",
    "    data[name] = labels"
   ]
  },
  {
   "cell_type": "code",
   "execution_count": 113,
   "metadata": {},
   "outputs": [],
   "source": [
    "args = [('clusters_2', two_clusters), ('clusters_3', three_clusters), ('clusters_4', four_clusters)]\n",
    "for t in args:\n",
    "    add_cluster_col(t[0], t[1], ll_data)"
   ]
  },
  {
   "cell_type": "code",
   "execution_count": 114,
   "metadata": {},
   "outputs": [
    {
     "data": {
      "text/html": [
       "<div>\n",
       "<style scoped>\n",
       "    .dataframe tbody tr th:only-of-type {\n",
       "        vertical-align: middle;\n",
       "    }\n",
       "\n",
       "    .dataframe tbody tr th {\n",
       "        vertical-align: top;\n",
       "    }\n",
       "\n",
       "    .dataframe thead th {\n",
       "        text-align: right;\n",
       "    }\n",
       "</style>\n",
       "<table border=\"1\" class=\"dataframe\">\n",
       "  <thead>\n",
       "    <tr style=\"text-align: right;\">\n",
       "      <th></th>\n",
       "      <th>lat</th>\n",
       "      <th>lon</th>\n",
       "      <th>clusters_2</th>\n",
       "      <th>clusters_3</th>\n",
       "      <th>clusters_4</th>\n",
       "    </tr>\n",
       "  </thead>\n",
       "  <tbody>\n",
       "    <tr>\n",
       "      <th>0</th>\n",
       "      <td>33.34883</td>\n",
       "      <td>-112.49123</td>\n",
       "      <td>0</td>\n",
       "      <td>2</td>\n",
       "      <td>0</td>\n",
       "    </tr>\n",
       "    <tr>\n",
       "      <th>1</th>\n",
       "      <td>33.34883</td>\n",
       "      <td>-112.49123</td>\n",
       "      <td>0</td>\n",
       "      <td>2</td>\n",
       "      <td>0</td>\n",
       "    </tr>\n",
       "    <tr>\n",
       "      <th>2</th>\n",
       "      <td>33.34883</td>\n",
       "      <td>-112.49123</td>\n",
       "      <td>0</td>\n",
       "      <td>2</td>\n",
       "      <td>0</td>\n",
       "    </tr>\n",
       "    <tr>\n",
       "      <th>3</th>\n",
       "      <td>33.34883</td>\n",
       "      <td>-112.49123</td>\n",
       "      <td>0</td>\n",
       "      <td>2</td>\n",
       "      <td>0</td>\n",
       "    </tr>\n",
       "    <tr>\n",
       "      <th>4</th>\n",
       "      <td>33.34883</td>\n",
       "      <td>-112.49123</td>\n",
       "      <td>0</td>\n",
       "      <td>2</td>\n",
       "      <td>0</td>\n",
       "    </tr>\n",
       "  </tbody>\n",
       "</table>\n",
       "</div>"
      ],
      "text/plain": [
       "        lat        lon  clusters_2  clusters_3  clusters_4\n",
       "0  33.34883 -112.49123           0           2           0\n",
       "1  33.34883 -112.49123           0           2           0\n",
       "2  33.34883 -112.49123           0           2           0\n",
       "3  33.34883 -112.49123           0           2           0\n",
       "4  33.34883 -112.49123           0           2           0"
      ]
     },
     "execution_count": 114,
     "metadata": {},
     "output_type": "execute_result"
    }
   ],
   "source": [
    "ll_data.head()"
   ]
  },
  {
   "cell_type": "code",
   "execution_count": 115,
   "metadata": {},
   "outputs": [],
   "source": [
    "def map_clusters(k, data):\n",
    "    map_data = [dict(\n",
    "        type = 'scattergeo',\n",
    "        locationmode = 'USA-states',\n",
    "        lon = data['lon'],\n",
    "        lat = data['lat'],\n",
    "        mode = 'markers',\n",
    "        marker = dict(\n",
    "            size = 5,\n",
    "            opacity = 0.8,\n",
    "            reversescale = True,\n",
    "            autocolorscale = False,\n",
    "            symbol = 'circle',\n",
    "            line = dict(\n",
    "                width=1,\n",
    "                color='rgba(102, 102, 102)'\n",
    "            ),\n",
    "            color = data['clusters_' + str(k)],\n",
    "\n",
    "        ))]\n",
    "\n",
    "    layout = dict(\n",
    "            title = 'Assigned Clusters (k = ' + str(k) + ')',\n",
    "            geo = dict(\n",
    "                scope='usa',\n",
    "                projection=dict( type='albers usa' ),\n",
    "                showland = True,\n",
    "                landcolor = \"rgb(250, 250, 250)\",\n",
    "                subunitcolor = \"rgb(217, 217, 217)\",\n",
    "                countrycolor = \"rgb(217, 217, 217)\",\n",
    "                countrywidth = 0.5,\n",
    "                subunitwidth = 0.5\n",
    "            ),\n",
    "        )\n",
    "\n",
    "    fig = dict(data=map_data, layout=layout)\n",
    "    return fig"
   ]
  },
  {
   "cell_type": "markdown",
   "metadata": {},
   "source": [
    "If $k=2$, we see a division between the eastern and western US"
   ]
  },
  {
   "cell_type": "code",
   "execution_count": 116,
   "metadata": {
    "scrolled": false
   },
   "outputs": [
    {
     "data": {
      "text/html": [
       "<iframe id=\"igraph\" scrolling=\"no\" style=\"border:none;\" seamless=\"seamless\" src=\"https://plot.ly/~sathvikn/72.embed\" height=\"525px\" width=\"100%\"></iframe>"
      ],
      "text/plain": [
       "<plotly.tools.PlotlyDisplay object>"
      ]
     },
     "execution_count": 116,
     "metadata": {},
     "output_type": "execute_result"
    }
   ],
   "source": [
    "py.iplot(map_clusters(2, ll_data))"
   ]
  },
  {
   "cell_type": "markdown",
   "metadata": {},
   "source": [
    "If $k = 3$, we see a distinction between Eastern US, Southwestern US, Western US"
   ]
  },
  {
   "cell_type": "code",
   "execution_count": 117,
   "metadata": {},
   "outputs": [
    {
     "data": {
      "text/html": [
       "<iframe id=\"igraph\" scrolling=\"no\" style=\"border:none;\" seamless=\"seamless\" src=\"https://plot.ly/~sathvikn/74.embed\" height=\"525px\" width=\"100%\"></iframe>"
      ],
      "text/plain": [
       "<plotly.tools.PlotlyDisplay object>"
      ]
     },
     "execution_count": 117,
     "metadata": {},
     "output_type": "execute_result"
    }
   ],
   "source": [
    "py.iplot(map_clusters(3, ll_data))"
   ]
  },
  {
   "cell_type": "markdown",
   "metadata": {},
   "source": [
    "If $k = 4$, clusters are roughly in Northern CA/Pacific NW, Southern CA, AZ, UT, Midwestern US, Eastern US"
   ]
  },
  {
   "cell_type": "code",
   "execution_count": 119,
   "metadata": {},
   "outputs": [
    {
     "data": {
      "text/html": [
       "<iframe id=\"igraph\" scrolling=\"no\" style=\"border:none;\" seamless=\"seamless\" src=\"https://plot.ly/~sathvikn/78.embed\" height=\"525px\" width=\"100%\"></iframe>"
      ],
      "text/plain": [
       "<plotly.tools.PlotlyDisplay object>"
      ]
     },
     "execution_count": 119,
     "metadata": {},
     "output_type": "execute_result"
    }
   ],
   "source": [
    "py.iplot(map_clusters(4, ll_data))"
   ]
  },
  {
   "cell_type": "code",
   "execution_count": null,
   "metadata": {},
   "outputs": [],
   "source": []
  },
  {
   "cell_type": "markdown",
   "metadata": {},
   "source": [
    "1. Use other features(age, immigration status, birthplace coords) as part of clustering\n",
    "2. Density-based approach"
   ]
  }
 ],
 "metadata": {
  "kernelspec": {
   "display_name": "Python [conda env:datascience]",
   "language": "python",
   "name": "conda-env-datascience-py"
  },
  "language_info": {
   "codemirror_mode": {
    "name": "ipython",
    "version": 3
   },
   "file_extension": ".py",
   "mimetype": "text/x-python",
   "name": "python",
   "nbconvert_exporter": "python",
   "pygments_lexer": "ipython3",
   "version": "3.6.4"
  }
 },
 "nbformat": 4,
 "nbformat_minor": 2
}
