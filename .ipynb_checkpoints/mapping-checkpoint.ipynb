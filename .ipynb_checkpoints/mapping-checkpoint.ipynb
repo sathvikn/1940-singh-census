{
 "cells": [
  {
   "cell_type": "code",
   "execution_count": 33,
   "metadata": {},
   "outputs": [],
   "source": [
    "import pandas as pd\n",
    "import numpy as np\n",
    "from matplotlib import pyplot as plt\n",
    "import plotly\n",
    "import plotly.plotly as py\n",
    "import plotly.figure_factory as ff\n",
    "import plotly.graph_objs as go\n",
    "from collections import Counter\n",
    "plotly.tools.set_credentials_file(username='sathvikn', api_key='ePo8zTuZ5PMFgYjFA9qm')\n"
   ]
  },
  {
   "cell_type": "code",
   "execution_count": 2,
   "metadata": {},
   "outputs": [
    {
     "data": {
      "text/plain": [
       "Index(['age', 'birthPlace', 'birthPlaceGeocodedData', 'birthPlaceNormalized',\n",
       "       'birthYearApprox', 'censusLocation', 'censusLocationGeocodedData',\n",
       "       'censusLocationNormalized', 'children', 'gender', 'identifier',\n",
       "       'inferredGroups', 'maritalStatus', 'name', 'parents', 'raceRecorded',\n",
       "       'raceRecordedNormalized', 'relationshipToHead', 'siblings', 'spouse'],\n",
       "      dtype='object')"
      ]
     },
     "execution_count": 2,
     "metadata": {},
     "output_type": "execute_result"
    }
   ],
   "source": [
    "geo_data = pd.read_json('1940_singh_census_with_geodata.json')\n",
    "geo_data.columns"
   ]
  },
  {
   "cell_type": "code",
   "execution_count": 3,
   "metadata": {},
   "outputs": [
    {
     "data": {
      "text/plain": [
       "962"
      ]
     },
     "execution_count": 3,
     "metadata": {},
     "output_type": "execute_result"
    }
   ],
   "source": [
    "len(geo_data.index)"
   ]
  },
  {
   "cell_type": "code",
   "execution_count": 4,
   "metadata": {},
   "outputs": [
    {
     "data": {
      "text/plain": [
       "{'address': {'country': 'United States of America',\n",
       "  'country_code': 'us',\n",
       "  'county': 'Maricopa County',\n",
       "  'state': 'Arizona'},\n",
       " 'boundingbox': ['32.5049739', '34.04739', '-113.333755', '-111.0399049'],\n",
       " 'class': 'boundary',\n",
       " 'display_name': 'Maricopa County, Arizona, United States of America',\n",
       " 'icon': 'http://nominatim.openstreetmap.org/images/mapicons/poi_boundary_administrative.p.20.png',\n",
       " 'importance': '0.94083416919723',\n",
       " 'lat': '33.34883',\n",
       " 'licence': 'Data © OpenStreetMap contributors, ODbL 1.0. http://www.openstreetmap.org/copyright',\n",
       " 'lon': '-112.49123',\n",
       " 'osm_id': '1832201',\n",
       " 'osm_type': 'relation',\n",
       " 'type': 'administrative'}"
      ]
     },
     "execution_count": 4,
     "metadata": {},
     "output_type": "execute_result"
    }
   ],
   "source": [
    "geo_data['censusLocationGeocodedData'][0]"
   ]
  },
  {
   "cell_type": "code",
   "execution_count": 5,
   "metadata": {},
   "outputs": [
    {
     "data": {
      "text/plain": [
       "dict"
      ]
     },
     "execution_count": 5,
     "metadata": {},
     "output_type": "execute_result"
    }
   ],
   "source": [
    "type(geo_data['censusLocationGeocodedData'][0])"
   ]
  },
  {
   "cell_type": "code",
   "execution_count": 6,
   "metadata": {},
   "outputs": [],
   "source": [
    "coords = [{'lat': data['lat'], 'lon': data['lon'], 'name': data['display_name'], 'county': data['address']['county']} for data in geo_data['censusLocationGeocodedData']]\n",
    "coords_df = pd.DataFrame(coords)"
   ]
  },
  {
   "cell_type": "code",
   "execution_count": 7,
   "metadata": {},
   "outputs": [
    {
     "data": {
      "text/html": [
       "<div>\n",
       "<style scoped>\n",
       "    .dataframe tbody tr th:only-of-type {\n",
       "        vertical-align: middle;\n",
       "    }\n",
       "\n",
       "    .dataframe tbody tr th {\n",
       "        vertical-align: top;\n",
       "    }\n",
       "\n",
       "    .dataframe thead th {\n",
       "        text-align: right;\n",
       "    }\n",
       "</style>\n",
       "<table border=\"1\" class=\"dataframe\">\n",
       "  <thead>\n",
       "    <tr style=\"text-align: right;\">\n",
       "      <th></th>\n",
       "      <th>county</th>\n",
       "      <th>lat</th>\n",
       "      <th>lon</th>\n",
       "      <th>name</th>\n",
       "    </tr>\n",
       "  </thead>\n",
       "  <tbody>\n",
       "    <tr>\n",
       "      <th>0</th>\n",
       "      <td>Maricopa County</td>\n",
       "      <td>33.34883</td>\n",
       "      <td>-112.49123</td>\n",
       "      <td>Maricopa County, Arizona, United States of Ame...</td>\n",
       "    </tr>\n",
       "    <tr>\n",
       "      <th>1</th>\n",
       "      <td>Maricopa County</td>\n",
       "      <td>33.34883</td>\n",
       "      <td>-112.49123</td>\n",
       "      <td>Maricopa County, Arizona, United States of Ame...</td>\n",
       "    </tr>\n",
       "    <tr>\n",
       "      <th>2</th>\n",
       "      <td>Maricopa County</td>\n",
       "      <td>33.34883</td>\n",
       "      <td>-112.49123</td>\n",
       "      <td>Maricopa County, Arizona, United States of Ame...</td>\n",
       "    </tr>\n",
       "    <tr>\n",
       "      <th>3</th>\n",
       "      <td>Maricopa County</td>\n",
       "      <td>33.34883</td>\n",
       "      <td>-112.49123</td>\n",
       "      <td>Maricopa County, Arizona, United States of Ame...</td>\n",
       "    </tr>\n",
       "    <tr>\n",
       "      <th>4</th>\n",
       "      <td>Maricopa County</td>\n",
       "      <td>33.34883</td>\n",
       "      <td>-112.49123</td>\n",
       "      <td>Maricopa County, Arizona, United States of Ame...</td>\n",
       "    </tr>\n",
       "  </tbody>\n",
       "</table>\n",
       "</div>"
      ],
      "text/plain": [
       "            county       lat         lon  \\\n",
       "0  Maricopa County  33.34883  -112.49123   \n",
       "1  Maricopa County  33.34883  -112.49123   \n",
       "2  Maricopa County  33.34883  -112.49123   \n",
       "3  Maricopa County  33.34883  -112.49123   \n",
       "4  Maricopa County  33.34883  -112.49123   \n",
       "\n",
       "                                                name  \n",
       "0  Maricopa County, Arizona, United States of Ame...  \n",
       "1  Maricopa County, Arizona, United States of Ame...  \n",
       "2  Maricopa County, Arizona, United States of Ame...  \n",
       "3  Maricopa County, Arizona, United States of Ame...  \n",
       "4  Maricopa County, Arizona, United States of Ame...  "
      ]
     },
     "execution_count": 7,
     "metadata": {},
     "output_type": "execute_result"
    }
   ],
   "source": [
    "coords_df.head()"
   ]
  },
  {
   "cell_type": "code",
   "execution_count": 8,
   "metadata": {},
   "outputs": [
    {
     "data": {
      "text/html": [
       "<div>\n",
       "<style scoped>\n",
       "    .dataframe tbody tr th:only-of-type {\n",
       "        vertical-align: middle;\n",
       "    }\n",
       "\n",
       "    .dataframe tbody tr th {\n",
       "        vertical-align: top;\n",
       "    }\n",
       "\n",
       "    .dataframe thead th {\n",
       "        text-align: right;\n",
       "    }\n",
       "</style>\n",
       "<table border=\"1\" class=\"dataframe\">\n",
       "  <thead>\n",
       "    <tr style=\"text-align: right;\">\n",
       "      <th></th>\n",
       "      <th>state</th>\n",
       "      <th>state_code</th>\n",
       "      <th>county_code</th>\n",
       "      <th>county</th>\n",
       "      <th>fips_class_code</th>\n",
       "    </tr>\n",
       "  </thead>\n",
       "  <tbody>\n",
       "    <tr>\n",
       "      <th>0</th>\n",
       "      <td>AL</td>\n",
       "      <td>1</td>\n",
       "      <td>1</td>\n",
       "      <td>Autauga County</td>\n",
       "      <td>H1</td>\n",
       "    </tr>\n",
       "    <tr>\n",
       "      <th>1</th>\n",
       "      <td>AL</td>\n",
       "      <td>1</td>\n",
       "      <td>3</td>\n",
       "      <td>Baldwin County</td>\n",
       "      <td>H1</td>\n",
       "    </tr>\n",
       "    <tr>\n",
       "      <th>2</th>\n",
       "      <td>AL</td>\n",
       "      <td>1</td>\n",
       "      <td>5</td>\n",
       "      <td>Barbour County</td>\n",
       "      <td>H1</td>\n",
       "    </tr>\n",
       "    <tr>\n",
       "      <th>3</th>\n",
       "      <td>AL</td>\n",
       "      <td>1</td>\n",
       "      <td>7</td>\n",
       "      <td>Bibb County</td>\n",
       "      <td>H1</td>\n",
       "    </tr>\n",
       "    <tr>\n",
       "      <th>4</th>\n",
       "      <td>AL</td>\n",
       "      <td>1</td>\n",
       "      <td>9</td>\n",
       "      <td>Blount County</td>\n",
       "      <td>H1</td>\n",
       "    </tr>\n",
       "  </tbody>\n",
       "</table>\n",
       "</div>"
      ],
      "text/plain": [
       "  state  state_code  county_code          county fips_class_code\n",
       "0    AL           1            1  Autauga County              H1\n",
       "1    AL           1            3  Baldwin County              H1\n",
       "2    AL           1            5  Barbour County              H1\n",
       "3    AL           1            7     Bibb County              H1\n",
       "4    AL           1            9   Blount County              H1"
      ]
     },
     "execution_count": 8,
     "metadata": {},
     "output_type": "execute_result"
    }
   ],
   "source": [
    "fips_mapping = pd.read_csv('fips.csv')\n",
    "fips_mapping.head()"
   ]
  },
  {
   "cell_type": "code",
   "execution_count": 9,
   "metadata": {},
   "outputs": [
    {
     "name": "stdout",
     "output_type": "stream",
     "text": [
      "Doña Ana County\n",
      "Doña Ana County\n",
      "Doña Ana County\n",
      "Doña Ana County\n",
      "Doña Ana County\n",
      "Manhattan\n",
      "Manhattan\n",
      "Manhattan\n",
      "New York\n"
     ]
    }
   ],
   "source": [
    "for i in coords_df.county:\n",
    "    if i not in fips_mapping['county'].values:\n",
    "        print(i)"
   ]
  },
  {
   "cell_type": "code",
   "execution_count": 10,
   "metadata": {},
   "outputs": [],
   "source": [
    "modern_county_mapping = {'New York': 'New York County', 'Manhattan': \n",
    "                         'New York County', 'Doña Ana County': 'Dona Ana County'}\n",
    "replace_county = lambda name: modern_county_mapping[name] if name in modern_county_mapping else name"
   ]
  },
  {
   "cell_type": "code",
   "execution_count": 11,
   "metadata": {},
   "outputs": [],
   "source": [
    "coords_df['county'] = [replace_county(i) for i in coords_df['county']]"
   ]
  },
  {
   "cell_type": "code",
   "execution_count": 12,
   "metadata": {},
   "outputs": [
    {
     "data": {
      "text/plain": [
       "(1342, 8)"
      ]
     },
     "execution_count": 12,
     "metadata": {},
     "output_type": "execute_result"
    }
   ],
   "source": [
    "coords_df.merge(fips_mapping, on='county', how='left').shape"
   ]
  },
  {
   "cell_type": "markdown",
   "metadata": {},
   "source": [
    "There were 962 rows in the original dataframe, so we should look at joining by county and state name."
   ]
  },
  {
   "cell_type": "code",
   "execution_count": 13,
   "metadata": {},
   "outputs": [],
   "source": [
    "us_state_abbrev = {\n",
    "    'Alabama': 'AL',\n",
    "    'Alaska': 'AK',\n",
    "    'Arizona': 'AZ',\n",
    "    'Arkansas': 'AR',\n",
    "    'California': 'CA',\n",
    "    'Colorado': 'CO',\n",
    "    'Connecticut': 'CT',\n",
    "    'Delaware': 'DE',\n",
    "    'Florida': 'FL',\n",
    "    'Georgia': 'GA',\n",
    "    'Hawaii': 'HI',\n",
    "    'Idaho': 'ID',\n",
    "    'Illinois': 'IL',\n",
    "    'Indiana': 'IN',\n",
    "    'Iowa': 'IA',\n",
    "    'Kansas': 'KS',\n",
    "    'Kentucky': 'KY',\n",
    "    'Louisiana': 'LA',\n",
    "    'Maine': 'ME',\n",
    "    'Maryland': 'MD',\n",
    "    'Massachusetts': 'MA',\n",
    "    'Michigan': 'MI',\n",
    "    'Minnesota': 'MN',\n",
    "    'Mississippi': 'MS',\n",
    "    'Missouri': 'MO',\n",
    "    'Montana': 'MT',\n",
    "    'Nebraska': 'NE',\n",
    "    'Nevada': 'NV',\n",
    "    'New Hampshire': 'NH',\n",
    "    'New Jersey': 'NJ',\n",
    "    'New Mexico': 'NM',\n",
    "    'New York': 'NY',\n",
    "    'North Carolina': 'NC',\n",
    "    'North Dakota': 'ND',\n",
    "    'Ohio': 'OH',\n",
    "    'Oklahoma': 'OK',\n",
    "    'Oregon': 'OR',\n",
    "    'Pennsylvania': 'PA',\n",
    "    'Rhode Island': 'RI',\n",
    "    'South Carolina': 'SC',\n",
    "    'South Dakota': 'SD',\n",
    "    'Tennessee': 'TN',\n",
    "    'Texas': 'TX',\n",
    "    'Utah': 'UT',\n",
    "    'Vermont': 'VT',\n",
    "    'Virginia': 'VA',\n",
    "    'Washington': 'WA',\n",
    "    'West Virginia': 'WV',\n",
    "    'Wisconsin': 'WI',\n",
    "    'Wyoming': 'WY',\n",
    "}"
   ]
  },
  {
   "cell_type": "code",
   "execution_count": 14,
   "metadata": {},
   "outputs": [],
   "source": [
    "state_code = [us_state_abbrev[data['address']['state']] for data in geo_data['censusLocationGeocodedData']]\n",
    "coords_df['state'] = state_code"
   ]
  },
  {
   "cell_type": "code",
   "execution_count": 15,
   "metadata": {},
   "outputs": [
    {
     "data": {
      "text/plain": [
       "Index(['county', 'lat', 'lon', 'name', 'state', 'state_code', 'county_code',\n",
       "       'fips_class_code'],\n",
       "      dtype='object')"
      ]
     },
     "execution_count": 15,
     "metadata": {},
     "output_type": "execute_result"
    }
   ],
   "source": [
    "coords_fips = coords_df.merge(fips_mapping, on=['state', 'county'], how='left')\n",
    "coords_fips.columns"
   ]
  },
  {
   "cell_type": "code",
   "execution_count": 16,
   "metadata": {},
   "outputs": [],
   "source": [
    "state_codes = coords_fips['state_code'].astype(str)\n",
    "county_codes = coords_fips['county_code'].astype(str)\n",
    "def combine_codes(state, county):\n",
    "    code_lst = []\n",
    "    for i in np.arange(len(state.index)):\n",
    "        complete_code = ''\n",
    "        if len(state[i]) == 1:\n",
    "            state[i] = '0' + state[i]\n",
    "        complete_code += state[i]\n",
    "        if len(county[i]) != 3:\n",
    "            county[i] = ('0' * (3 - len(county[i]))) + county[i]\n",
    "        complete_code += county[i]\n",
    "        code_lst.append(complete_code)\n",
    "    return code_lst"
   ]
  },
  {
   "cell_type": "code",
   "execution_count": 17,
   "metadata": {},
   "outputs": [
    {
     "data": {
      "text/html": [
       "<iframe id=\"igraph\" scrolling=\"no\" style=\"border:none;\" seamless=\"seamless\" src=\"https://plot.ly/~sathvikn/44.embed\" height=\"450px\" width=\"900px\"></iframe>"
      ],
      "text/plain": [
       "<plotly.tools.PlotlyDisplay object>"
      ]
     },
     "execution_count": 17,
     "metadata": {},
     "output_type": "execute_result"
    }
   ],
   "source": [
    "complete_fips = combine_codes(state_codes, county_codes)\n",
    "people_per_county = Counter(complete_fips)\n",
    "fips_codes = list(people_per_county.keys())\n",
    "counts = list(people_per_county.values())\n",
    "fig = ff.create_choropleth(fips=fips_codes, values=counts)\n",
    "py.iplot(fig)"
   ]
  },
  {
   "cell_type": "code",
   "execution_count": 18,
   "metadata": {},
   "outputs": [
    {
     "data": {
      "text/html": [
       "<iframe id=\"igraph\" scrolling=\"no\" style=\"border:none;\" seamless=\"seamless\" src=\"https://plot.ly/~sathvikn/46.embed\" height=\"450px\" width=\"900px\"></iframe>"
      ],
      "text/plain": [
       "<plotly.tools.PlotlyDisplay object>"
      ]
     },
     "execution_count": 18,
     "metadata": {},
     "output_type": "execute_result"
    }
   ],
   "source": [
    "ca_data = coords_fips[coords_fips['state'] == 'CA']\n",
    "ca_codes = combine_codes(pd.Series(ca_data['state_code'].astype(str).values, index=np.arange(len(ca_data.index))),\n",
    "              pd.Series(ca_data['county_code'].astype(str).values, index=np.arange(len(ca_data.index))))\n",
    "ca_per_county = Counter(ca_codes)\n",
    "fips_ca = list(ca_per_county.keys())\n",
    "counts_ca = list(ca_per_county.values())\n",
    "ca_fig = ff.create_choropleth(\n",
    "    fips=fips_ca, values=counts_ca, scope=['California'],\n",
    "    round_legend_values=True,\n",
    "    simplify_county=0, simplify_state=0,\n",
    "    county_outline={'color': 'rgb(15, 15, 55)', 'width': 0.5},\n",
    "    state_outline={'width': 1},\n",
    "    legend_title='pop. per county',\n",
    "    title='Population of People with Surname \"Singh\" in California (1940)')\n",
    "py.iplot(ca_fig)"
   ]
  },
  {
   "cell_type": "markdown",
   "metadata": {},
   "source": [
    "## Clustering"
   ]
  },
  {
   "cell_type": "markdown",
   "metadata": {},
   "source": [
    "First, we will look at the data at a glance, to see if we can find patterns by inspection. This will not be on a map, but rather on a coordinate plane."
   ]
  },
  {
   "cell_type": "code",
   "execution_count": 19,
   "metadata": {},
   "outputs": [
    {
     "data": {
      "text/plain": [
       "<matplotlib.collections.PathCollection at 0x10869ccc0>"
      ]
     },
     "execution_count": 19,
     "metadata": {},
     "output_type": "execute_result"
    },
    {
     "data": {
      "image/png": "[encoded data removed]",
      "text/plain": [
       "<matplotlib.figure.Figure at 0x10865da20>"
      ]
     },
     "metadata": {},
     "output_type": "display_data"
    }
   ],
   "source": [
    "features = ['lat', 'lon']\n",
    "ll_data = coords_df[features]\n",
    "ll_data['lat'] = ll_data['lat'].astype('float')\n",
    "ll_data['lon'] = ll_data['lon'].astype('float')\n",
    "plt.scatter(ll_data['lon'], ll_data['lat'])"
   ]
  },
  {
   "cell_type": "markdown",
   "metadata": {},
   "source": [
    "Because the data are already at the scale we want them, and because we want to visualize the clusters on the map, we will run the k-means algorithm for clustering. As $k$ is the number of clusters, we will use the \"elbow method\" to find the optimal value for $k$, by minimizing the function which relates the sum of the squared errors to the number of clusters. \n",
    "\n",
    "If we're going by latitude and longitude alone, it's best to cluster the data as is, mostly the units are already the same. If we standardized it or preprocessed it in any other way, then it would not be interpretable."
   ]
  },
  {
   "cell_type": "code",
   "execution_count": 23,
   "metadata": {},
   "outputs": [],
   "source": [
    "from sklearn import preprocessing, cluster"
   ]
  },
  {
   "cell_type": "code",
   "execution_count": 22,
   "metadata": {},
   "outputs": [
    {
     "data": {
      "image/png": "[encoded data removed]",
      "text/plain": [
       "<matplotlib.figure.Figure at 0x1a22ec3e48>"
      ]
     },
     "metadata": {},
     "output_type": "display_data"
    }
   ],
   "source": [
    "def plot_elbow(data):\n",
    "    k_counts = np.arange(1, 10)\n",
    "    sse = []\n",
    "    for k in k_counts:\n",
    "        model = cluster.KMeans(n_clusters = k)\n",
    "        model = model.fit(data)\n",
    "        sse.append(model.inertia_)\n",
    "    plt.plot(k_counts, sse)\n",
    "plot_elbow(ll_data)"
   ]
  },
  {
   "cell_type": "markdown",
   "metadata": {},
   "source": [
    "The point of inflection in the curve appears to be somewhere between 2, 3, and 4. Let's first visualize the points on a coordinate grid, and then on a map."
   ]
  },
  {
   "cell_type": "code",
   "execution_count": 34,
   "metadata": {},
   "outputs": [],
   "source": [
    "def plot_clusters(k, data):\n",
    "    model = cluster.KMeans(n_clusters = k)\n",
    "    model = model.fit(data)\n",
    "    plt.scatter(data['lon'], data['lat'], c=model.labels_.astype(float))\n",
    "    print(Counter(model.labels_))\n",
    "    return model.labels_"
   ]
  },
  {
   "cell_type": "code",
   "execution_count": 35,
   "metadata": {},
   "outputs": [
    {
     "name": "stdout",
     "output_type": "stream",
     "text": [
      "Counter({1: 865, 0: 97})\n"
     ]
    },
    {
     "data": {
      "image/png": "[encoded data removed]",
      "text/plain": [
       "<matplotlib.figure.Figure at 0x108656278>"
      ]
     },
     "metadata": {},
     "output_type": "display_data"
    }
   ],
   "source": [
    "two_clusters = plot_clusters(2, ll_data)"
   ]
  },
  {
   "cell_type": "code",
   "execution_count": 36,
   "metadata": {},
   "outputs": [
    {
     "name": "stdout",
     "output_type": "stream",
     "text": [
      "Counter({2: 522, 0: 353, 1: 87})\n"
     ]
    },
    {
     "data": {
      "image/png": "[encoded data removed]",
      "text/plain": [
       "<matplotlib.figure.Figure at 0x1a23027048>"
      ]
     },
     "metadata": {},
     "output_type": "display_data"
    }
   ],
   "source": [
    "three_clusters = plot_clusters(3, ll_data)"
   ]
  },
  {
   "cell_type": "code",
   "execution_count": 37,
   "metadata": {},
   "outputs": [
    {
     "name": "stdout",
     "output_type": "stream",
     "text": [
      "Counter({2: 508, 0: 321, 1: 81, 3: 52})\n"
     ]
    },
    {
     "data": {
      "image/png": "[encoded data removed]",
      "text/plain": [
       "<matplotlib.figure.Figure at 0x1a22f8c6d8>"
      ]
     },
     "metadata": {},
     "output_type": "display_data"
    }
   ],
   "source": [
    "four_clusters = plot_clusters(4, ll_data)"
   ]
  },
  {
   "cell_type": "code",
   "execution_count": 38,
   "metadata": {},
   "outputs": [],
   "source": [
    "def add_cluster_col(name, labels, data):\n",
    "    data[name] = labels"
   ]
  },
  {
   "cell_type": "code",
   "execution_count": 39,
   "metadata": {},
   "outputs": [],
   "source": [
    "args = [('clusters_2', two_clusters), ('clusters_3', three_clusters), ('clusters_4', four_clusters)]\n",
    "for t in args:\n",
    "    add_cluster_col(t[0], t[1], ll_data)"
   ]
  },
  {
   "cell_type": "code",
   "execution_count": 40,
   "metadata": {},
   "outputs": [
    {
     "data": {
      "text/html": [
       "<div>\n",
       "<style scoped>\n",
       "    .dataframe tbody tr th:only-of-type {\n",
       "        vertical-align: middle;\n",
       "    }\n",
       "\n",
       "    .dataframe tbody tr th {\n",
       "        vertical-align: top;\n",
       "    }\n",
       "\n",
       "    .dataframe thead th {\n",
       "        text-align: right;\n",
       "    }\n",
       "</style>\n",
       "<table border=\"1\" class=\"dataframe\">\n",
       "  <thead>\n",
       "    <tr style=\"text-align: right;\">\n",
       "      <th></th>\n",
       "      <th>lat</th>\n",
       "      <th>lon</th>\n",
       "      <th>clusters_2</th>\n",
       "      <th>clusters_3</th>\n",
       "      <th>clusters_4</th>\n",
       "    </tr>\n",
       "  </thead>\n",
       "  <tbody>\n",
       "    <tr>\n",
       "      <th>0</th>\n",
       "      <td>33.34883</td>\n",
       "      <td>-112.49123</td>\n",
       "      <td>1</td>\n",
       "      <td>0</td>\n",
       "      <td>0</td>\n",
       "    </tr>\n",
       "    <tr>\n",
       "      <th>1</th>\n",
       "      <td>33.34883</td>\n",
       "      <td>-112.49123</td>\n",
       "      <td>1</td>\n",
       "      <td>0</td>\n",
       "      <td>0</td>\n",
       "    </tr>\n",
       "    <tr>\n",
       "      <th>2</th>\n",
       "      <td>33.34883</td>\n",
       "      <td>-112.49123</td>\n",
       "      <td>1</td>\n",
       "      <td>0</td>\n",
       "      <td>0</td>\n",
       "    </tr>\n",
       "    <tr>\n",
       "      <th>3</th>\n",
       "      <td>33.34883</td>\n",
       "      <td>-112.49123</td>\n",
       "      <td>1</td>\n",
       "      <td>0</td>\n",
       "      <td>0</td>\n",
       "    </tr>\n",
       "    <tr>\n",
       "      <th>4</th>\n",
       "      <td>33.34883</td>\n",
       "      <td>-112.49123</td>\n",
       "      <td>1</td>\n",
       "      <td>0</td>\n",
       "      <td>0</td>\n",
       "    </tr>\n",
       "  </tbody>\n",
       "</table>\n",
       "</div>"
      ],
      "text/plain": [
       "        lat        lon  clusters_2  clusters_3  clusters_4\n",
       "0  33.34883 -112.49123           1           0           0\n",
       "1  33.34883 -112.49123           1           0           0\n",
       "2  33.34883 -112.49123           1           0           0\n",
       "3  33.34883 -112.49123           1           0           0\n",
       "4  33.34883 -112.49123           1           0           0"
      ]
     },
     "execution_count": 40,
     "metadata": {},
     "output_type": "execute_result"
    }
   ],
   "source": [
    "ll_data.head()"
   ]
  },
  {
   "cell_type": "code",
   "execution_count": 79,
   "metadata": {
    "scrolled": true
   },
   "outputs": [
    {
     "data": {
      "text/html": [
       "<div>\n",
       "<style scoped>\n",
       "    .dataframe tbody tr th:only-of-type {\n",
       "        vertical-align: middle;\n",
       "    }\n",
       "\n",
       "    .dataframe tbody tr th {\n",
       "        vertical-align: top;\n",
       "    }\n",
       "\n",
       "    .dataframe thead th {\n",
       "        text-align: right;\n",
       "    }\n",
       "</style>\n",
       "<table border=\"1\" class=\"dataframe\">\n",
       "  <thead>\n",
       "    <tr style=\"text-align: right;\">\n",
       "      <th></th>\n",
       "      <th>lat</th>\n",
       "      <th>lon</th>\n",
       "      <th>clusters_2</th>\n",
       "      <th>clusters_3</th>\n",
       "      <th>clusters_4</th>\n",
       "    </tr>\n",
       "  </thead>\n",
       "  <tbody>\n",
       "    <tr>\n",
       "      <th>0</th>\n",
       "      <td>26.353026</td>\n",
       "      <td>-98.216445</td>\n",
       "      <td>0</td>\n",
       "      <td>10</td>\n",
       "      <td>10</td>\n",
       "    </tr>\n",
       "    <tr>\n",
       "      <th>1</th>\n",
       "      <td>29.387225</td>\n",
       "      <td>-94.992736</td>\n",
       "      <td>0</td>\n",
       "      <td>3</td>\n",
       "      <td>3</td>\n",
       "    </tr>\n",
       "    <tr>\n",
       "      <th>2</th>\n",
       "      <td>31.538863</td>\n",
       "      <td>-105.475295</td>\n",
       "      <td>1</td>\n",
       "      <td>1</td>\n",
       "      <td>1</td>\n",
       "    </tr>\n",
       "    <tr>\n",
       "      <th>3</th>\n",
       "      <td>31.806430</td>\n",
       "      <td>-106.222092</td>\n",
       "      <td>1</td>\n",
       "      <td>21</td>\n",
       "      <td>21</td>\n",
       "    </tr>\n",
       "    <tr>\n",
       "      <th>4</th>\n",
       "      <td>32.328170</td>\n",
       "      <td>-106.849424</td>\n",
       "      <td>1</td>\n",
       "      <td>5</td>\n",
       "      <td>5</td>\n",
       "    </tr>\n",
       "    <tr>\n",
       "      <th>5</th>\n",
       "      <td>32.808585</td>\n",
       "      <td>-111.442621</td>\n",
       "      <td>1</td>\n",
       "      <td>10</td>\n",
       "      <td>10</td>\n",
       "    </tr>\n",
       "    <tr>\n",
       "      <th>6</th>\n",
       "      <td>33.030549</td>\n",
       "      <td>-115.359567</td>\n",
       "      <td>1</td>\n",
       "      <td>229</td>\n",
       "      <td>229</td>\n",
       "    </tr>\n",
       "    <tr>\n",
       "      <th>7</th>\n",
       "      <td>33.116594</td>\n",
       "      <td>-107.256942</td>\n",
       "      <td>1</td>\n",
       "      <td>4</td>\n",
       "      <td>4</td>\n",
       "    </tr>\n",
       "    <tr>\n",
       "      <th>8</th>\n",
       "      <td>33.348830</td>\n",
       "      <td>-112.491230</td>\n",
       "      <td>1</td>\n",
       "      <td>21</td>\n",
       "      <td>21</td>\n",
       "    </tr>\n",
       "    <tr>\n",
       "      <th>9</th>\n",
       "      <td>33.940014</td>\n",
       "      <td>-118.132569</td>\n",
       "      <td>1</td>\n",
       "      <td>1</td>\n",
       "      <td>1</td>\n",
       "    </tr>\n",
       "    <tr>\n",
       "      <th>10</th>\n",
       "      <td>34.047338</td>\n",
       "      <td>-117.238672</td>\n",
       "      <td>1</td>\n",
       "      <td>2</td>\n",
       "      <td>2</td>\n",
       "    </tr>\n",
       "    <tr>\n",
       "      <th>11</th>\n",
       "      <td>34.054935</td>\n",
       "      <td>-118.244476</td>\n",
       "      <td>1</td>\n",
       "      <td>2</td>\n",
       "      <td>2</td>\n",
       "    </tr>\n",
       "    <tr>\n",
       "      <th>12</th>\n",
       "      <td>34.058039</td>\n",
       "      <td>-84.296128</td>\n",
       "      <td>0</td>\n",
       "      <td>1</td>\n",
       "      <td>1</td>\n",
       "    </tr>\n",
       "    <tr>\n",
       "      <th>13</th>\n",
       "      <td>34.197631</td>\n",
       "      <td>-119.180382</td>\n",
       "      <td>1</td>\n",
       "      <td>1</td>\n",
       "      <td>1</td>\n",
       "    </tr>\n",
       "    <tr>\n",
       "      <th>14</th>\n",
       "      <td>34.315507</td>\n",
       "      <td>-118.209681</td>\n",
       "      <td>1</td>\n",
       "      <td>27</td>\n",
       "      <td>27</td>\n",
       "    </tr>\n",
       "    <tr>\n",
       "      <th>15</th>\n",
       "      <td>34.445825</td>\n",
       "      <td>-119.077936</td>\n",
       "      <td>1</td>\n",
       "      <td>11</td>\n",
       "      <td>11</td>\n",
       "    </tr>\n",
       "    <tr>\n",
       "      <th>16</th>\n",
       "      <td>35.143664</td>\n",
       "      <td>-83.397730</td>\n",
       "      <td>0</td>\n",
       "      <td>10</td>\n",
       "      <td>10</td>\n",
       "    </tr>\n",
       "    <tr>\n",
       "      <th>17</th>\n",
       "      <td>35.314570</td>\n",
       "      <td>-118.753822</td>\n",
       "      <td>1</td>\n",
       "      <td>2</td>\n",
       "      <td>2</td>\n",
       "    </tr>\n",
       "    <tr>\n",
       "      <th>18</th>\n",
       "      <td>35.667708</td>\n",
       "      <td>-95.969012</td>\n",
       "      <td>0</td>\n",
       "      <td>3</td>\n",
       "      <td>3</td>\n",
       "    </tr>\n",
       "    <tr>\n",
       "      <th>19</th>\n",
       "      <td>36.223108</td>\n",
       "      <td>-121.387743</td>\n",
       "      <td>1</td>\n",
       "      <td>1</td>\n",
       "      <td>1</td>\n",
       "    </tr>\n",
       "    <tr>\n",
       "      <th>20</th>\n",
       "      <td>36.251647</td>\n",
       "      <td>-118.852583</td>\n",
       "      <td>1</td>\n",
       "      <td>11</td>\n",
       "      <td>11</td>\n",
       "    </tr>\n",
       "    <tr>\n",
       "      <th>21</th>\n",
       "      <td>36.544950</td>\n",
       "      <td>-119.287338</td>\n",
       "      <td>1</td>\n",
       "      <td>1</td>\n",
       "      <td>1</td>\n",
       "    </tr>\n",
       "    <tr>\n",
       "      <th>22</th>\n",
       "      <td>36.671350</td>\n",
       "      <td>-119.815535</td>\n",
       "      <td>1</td>\n",
       "      <td>88</td>\n",
       "      <td>88</td>\n",
       "    </tr>\n",
       "    <tr>\n",
       "      <th>23</th>\n",
       "      <td>37.050096</td>\n",
       "      <td>-121.990591</td>\n",
       "      <td>1</td>\n",
       "      <td>1</td>\n",
       "      <td>1</td>\n",
       "    </tr>\n",
       "    <tr>\n",
       "      <th>24</th>\n",
       "      <td>37.164154</td>\n",
       "      <td>-120.767860</td>\n",
       "      <td>1</td>\n",
       "      <td>3</td>\n",
       "      <td>3</td>\n",
       "    </tr>\n",
       "    <tr>\n",
       "      <th>25</th>\n",
       "      <td>37.171626</td>\n",
       "      <td>-119.773799</td>\n",
       "      <td>1</td>\n",
       "      <td>3</td>\n",
       "      <td>3</td>\n",
       "    </tr>\n",
       "    <tr>\n",
       "      <th>26</th>\n",
       "      <td>37.233325</td>\n",
       "      <td>-121.684635</td>\n",
       "      <td>1</td>\n",
       "      <td>1</td>\n",
       "      <td>1</td>\n",
       "    </tr>\n",
       "    <tr>\n",
       "      <th>27</th>\n",
       "      <td>37.550087</td>\n",
       "      <td>-121.050143</td>\n",
       "      <td>1</td>\n",
       "      <td>3</td>\n",
       "      <td>3</td>\n",
       "    </tr>\n",
       "    <tr>\n",
       "      <th>28</th>\n",
       "      <td>37.639097</td>\n",
       "      <td>-120.996878</td>\n",
       "      <td>1</td>\n",
       "      <td>2</td>\n",
       "      <td>2</td>\n",
       "    </tr>\n",
       "    <tr>\n",
       "      <th>29</th>\n",
       "      <td>37.804456</td>\n",
       "      <td>-122.271356</td>\n",
       "      <td>1</td>\n",
       "      <td>4</td>\n",
       "      <td>4</td>\n",
       "    </tr>\n",
       "    <tr>\n",
       "      <th>...</th>\n",
       "      <td>...</td>\n",
       "      <td>...</td>\n",
       "      <td>...</td>\n",
       "      <td>...</td>\n",
       "      <td>...</td>\n",
       "    </tr>\n",
       "    <tr>\n",
       "      <th>56</th>\n",
       "      <td>40.260151</td>\n",
       "      <td>-74.275662</td>\n",
       "      <td>0</td>\n",
       "      <td>1</td>\n",
       "      <td>1</td>\n",
       "    </tr>\n",
       "    <tr>\n",
       "      <th>57</th>\n",
       "      <td>40.296883</td>\n",
       "      <td>-111.747026</td>\n",
       "      <td>1</td>\n",
       "      <td>1</td>\n",
       "      <td>1</td>\n",
       "    </tr>\n",
       "    <tr>\n",
       "      <th>58</th>\n",
       "      <td>40.484358</td>\n",
       "      <td>-78.718852</td>\n",
       "      <td>0</td>\n",
       "      <td>2</td>\n",
       "      <td>2</td>\n",
       "    </tr>\n",
       "    <tr>\n",
       "      <th>59</th>\n",
       "      <td>40.645310</td>\n",
       "      <td>-73.955023</td>\n",
       "      <td>0</td>\n",
       "      <td>3</td>\n",
       "      <td>3</td>\n",
       "    </tr>\n",
       "    <tr>\n",
       "      <th>60</th>\n",
       "      <td>40.650104</td>\n",
       "      <td>-73.949582</td>\n",
       "      <td>0</td>\n",
       "      <td>3</td>\n",
       "      <td>3</td>\n",
       "    </tr>\n",
       "    <tr>\n",
       "      <th>61</th>\n",
       "      <td>40.652493</td>\n",
       "      <td>-73.791421</td>\n",
       "      <td>0</td>\n",
       "      <td>2</td>\n",
       "      <td>2</td>\n",
       "    </tr>\n",
       "    <tr>\n",
       "      <th>62</th>\n",
       "      <td>40.721465</td>\n",
       "      <td>-81.439973</td>\n",
       "      <td>0</td>\n",
       "      <td>1</td>\n",
       "      <td>1</td>\n",
       "    </tr>\n",
       "    <tr>\n",
       "      <th>63</th>\n",
       "      <td>40.783513</td>\n",
       "      <td>-73.957085</td>\n",
       "      <td>0</td>\n",
       "      <td>12</td>\n",
       "      <td>12</td>\n",
       "    </tr>\n",
       "    <tr>\n",
       "      <th>64</th>\n",
       "      <td>40.790278</td>\n",
       "      <td>-73.959722</td>\n",
       "      <td>0</td>\n",
       "      <td>3</td>\n",
       "      <td>3</td>\n",
       "    </tr>\n",
       "    <tr>\n",
       "      <th>65</th>\n",
       "      <td>40.791392</td>\n",
       "      <td>-74.247944</td>\n",
       "      <td>0</td>\n",
       "      <td>1</td>\n",
       "      <td>1</td>\n",
       "    </tr>\n",
       "    <tr>\n",
       "      <th>66</th>\n",
       "      <td>40.832421</td>\n",
       "      <td>-115.763123</td>\n",
       "      <td>1</td>\n",
       "      <td>1</td>\n",
       "      <td>1</td>\n",
       "    </tr>\n",
       "    <tr>\n",
       "      <th>67</th>\n",
       "      <td>40.857033</td>\n",
       "      <td>-73.836696</td>\n",
       "      <td>0</td>\n",
       "      <td>4</td>\n",
       "      <td>4</td>\n",
       "    </tr>\n",
       "    <tr>\n",
       "      <th>68</th>\n",
       "      <td>40.969080</td>\n",
       "      <td>-73.763532</td>\n",
       "      <td>0</td>\n",
       "      <td>1</td>\n",
       "      <td>1</td>\n",
       "    </tr>\n",
       "    <tr>\n",
       "      <th>69</th>\n",
       "      <td>41.125390</td>\n",
       "      <td>-87.848682</td>\n",
       "      <td>0</td>\n",
       "      <td>1</td>\n",
       "      <td>1</td>\n",
       "    </tr>\n",
       "    <tr>\n",
       "      <th>70</th>\n",
       "      <td>41.167041</td>\n",
       "      <td>-73.204835</td>\n",
       "      <td>0</td>\n",
       "      <td>1</td>\n",
       "      <td>1</td>\n",
       "    </tr>\n",
       "    <tr>\n",
       "      <th>71</th>\n",
       "      <td>41.272804</td>\n",
       "      <td>-111.886065</td>\n",
       "      <td>1</td>\n",
       "      <td>2</td>\n",
       "      <td>2</td>\n",
       "    </tr>\n",
       "    <tr>\n",
       "      <th>72</th>\n",
       "      <td>41.358606</td>\n",
       "      <td>-113.211207</td>\n",
       "      <td>1</td>\n",
       "      <td>11</td>\n",
       "      <td>11</td>\n",
       "    </tr>\n",
       "    <tr>\n",
       "      <th>73</th>\n",
       "      <td>41.463407</td>\n",
       "      <td>-112.302994</td>\n",
       "      <td>1</td>\n",
       "      <td>1</td>\n",
       "      <td>1</td>\n",
       "    </tr>\n",
       "    <tr>\n",
       "      <th>74</th>\n",
       "      <td>41.533632</td>\n",
       "      <td>-73.071538</td>\n",
       "      <td>0</td>\n",
       "      <td>2</td>\n",
       "      <td>2</td>\n",
       "    </tr>\n",
       "    <tr>\n",
       "      <th>75</th>\n",
       "      <td>41.819738</td>\n",
       "      <td>-87.756525</td>\n",
       "      <td>0</td>\n",
       "      <td>9</td>\n",
       "      <td>9</td>\n",
       "    </tr>\n",
       "    <tr>\n",
       "      <th>76</th>\n",
       "      <td>42.221931</td>\n",
       "      <td>-113.577709</td>\n",
       "      <td>1</td>\n",
       "      <td>2</td>\n",
       "      <td>2</td>\n",
       "    </tr>\n",
       "    <tr>\n",
       "      <th>77</th>\n",
       "      <td>42.268241</td>\n",
       "      <td>-83.284417</td>\n",
       "      <td>0</td>\n",
       "      <td>10</td>\n",
       "      <td>10</td>\n",
       "    </tr>\n",
       "    <tr>\n",
       "      <th>78</th>\n",
       "      <td>42.427580</td>\n",
       "      <td>-83.609818</td>\n",
       "      <td>0</td>\n",
       "      <td>1</td>\n",
       "      <td>1</td>\n",
       "    </tr>\n",
       "    <tr>\n",
       "      <th>79</th>\n",
       "      <td>43.016415</td>\n",
       "      <td>-87.973730</td>\n",
       "      <td>0</td>\n",
       "      <td>1</td>\n",
       "      <td>1</td>\n",
       "    </tr>\n",
       "    <tr>\n",
       "      <th>80</th>\n",
       "      <td>43.155812</td>\n",
       "      <td>-82.934061</td>\n",
       "      <td>0</td>\n",
       "      <td>5</td>\n",
       "      <td>5</td>\n",
       "    </tr>\n",
       "    <tr>\n",
       "      <th>81</th>\n",
       "      <td>44.896442</td>\n",
       "      <td>-122.720325</td>\n",
       "      <td>1</td>\n",
       "      <td>3</td>\n",
       "      <td>3</td>\n",
       "    </tr>\n",
       "    <tr>\n",
       "      <th>82</th>\n",
       "      <td>45.509380</td>\n",
       "      <td>-122.400641</td>\n",
       "      <td>1</td>\n",
       "      <td>5</td>\n",
       "      <td>5</td>\n",
       "    </tr>\n",
       "    <tr>\n",
       "      <th>83</th>\n",
       "      <td>47.002255</td>\n",
       "      <td>-122.211798</td>\n",
       "      <td>1</td>\n",
       "      <td>1</td>\n",
       "      <td>1</td>\n",
       "    </tr>\n",
       "    <tr>\n",
       "      <th>84</th>\n",
       "      <td>47.174417</td>\n",
       "      <td>-123.865883</td>\n",
       "      <td>1</td>\n",
       "      <td>1</td>\n",
       "      <td>1</td>\n",
       "    </tr>\n",
       "    <tr>\n",
       "      <th>85</th>\n",
       "      <td>48.459609</td>\n",
       "      <td>-121.733278</td>\n",
       "      <td>1</td>\n",
       "      <td>2</td>\n",
       "      <td>2</td>\n",
       "    </tr>\n",
       "  </tbody>\n",
       "</table>\n",
       "<p>86 rows × 5 columns</p>\n",
       "</div>"
      ],
      "text/plain": [
       "          lat         lon  clusters_2  clusters_3  clusters_4\n",
       "0   26.353026  -98.216445           0          10          10\n",
       "1   29.387225  -94.992736           0           3           3\n",
       "2   31.538863 -105.475295           1           1           1\n",
       "3   31.806430 -106.222092           1          21          21\n",
       "4   32.328170 -106.849424           1           5           5\n",
       "5   32.808585 -111.442621           1          10          10\n",
       "6   33.030549 -115.359567           1         229         229\n",
       "7   33.116594 -107.256942           1           4           4\n",
       "8   33.348830 -112.491230           1          21          21\n",
       "9   33.940014 -118.132569           1           1           1\n",
       "10  34.047338 -117.238672           1           2           2\n",
       "11  34.054935 -118.244476           1           2           2\n",
       "12  34.058039  -84.296128           0           1           1\n",
       "13  34.197631 -119.180382           1           1           1\n",
       "14  34.315507 -118.209681           1          27          27\n",
       "15  34.445825 -119.077936           1          11          11\n",
       "16  35.143664  -83.397730           0          10          10\n",
       "17  35.314570 -118.753822           1           2           2\n",
       "18  35.667708  -95.969012           0           3           3\n",
       "19  36.223108 -121.387743           1           1           1\n",
       "20  36.251647 -118.852583           1          11          11\n",
       "21  36.544950 -119.287338           1           1           1\n",
       "22  36.671350 -119.815535           1          88          88\n",
       "23  37.050096 -121.990591           1           1           1\n",
       "24  37.164154 -120.767860           1           3           3\n",
       "25  37.171626 -119.773799           1           3           3\n",
       "26  37.233325 -121.684635           1           1           1\n",
       "27  37.550087 -121.050143           1           3           3\n",
       "28  37.639097 -120.996878           1           2           2\n",
       "29  37.804456 -122.271356           1           4           4\n",
       "..        ...         ...         ...         ...         ...\n",
       "56  40.260151  -74.275662           0           1           1\n",
       "57  40.296883 -111.747026           1           1           1\n",
       "58  40.484358  -78.718852           0           2           2\n",
       "59  40.645310  -73.955023           0           3           3\n",
       "60  40.650104  -73.949582           0           3           3\n",
       "61  40.652493  -73.791421           0           2           2\n",
       "62  40.721465  -81.439973           0           1           1\n",
       "63  40.783513  -73.957085           0          12          12\n",
       "64  40.790278  -73.959722           0           3           3\n",
       "65  40.791392  -74.247944           0           1           1\n",
       "66  40.832421 -115.763123           1           1           1\n",
       "67  40.857033  -73.836696           0           4           4\n",
       "68  40.969080  -73.763532           0           1           1\n",
       "69  41.125390  -87.848682           0           1           1\n",
       "70  41.167041  -73.204835           0           1           1\n",
       "71  41.272804 -111.886065           1           2           2\n",
       "72  41.358606 -113.211207           1          11          11\n",
       "73  41.463407 -112.302994           1           1           1\n",
       "74  41.533632  -73.071538           0           2           2\n",
       "75  41.819738  -87.756525           0           9           9\n",
       "76  42.221931 -113.577709           1           2           2\n",
       "77  42.268241  -83.284417           0          10          10\n",
       "78  42.427580  -83.609818           0           1           1\n",
       "79  43.016415  -87.973730           0           1           1\n",
       "80  43.155812  -82.934061           0           5           5\n",
       "81  44.896442 -122.720325           1           3           3\n",
       "82  45.509380 -122.400641           1           5           5\n",
       "83  47.002255 -122.211798           1           1           1\n",
       "84  47.174417 -123.865883           1           1           1\n",
       "85  48.459609 -121.733278           1           2           2\n",
       "\n",
       "[86 rows x 5 columns]"
      ]
     },
     "execution_count": 79,
     "metadata": {},
     "output_type": "execute_result"
    }
   ],
   "source": [
    "def counts_per_cluster(data, k):\n",
    "    return data.groupby(['lat', 'lon', 'clusters_'+ str(k)]).agg('count').reset_index()\n",
    "grouped = counts_per_cluster(ll_data, 2)\n",
    "grouped[]"
   ]
  },
  {
   "cell_type": "code",
   "execution_count": 85,
   "metadata": {},
   "outputs": [],
   "source": [
    "def map_clusters(k, data):\n",
    "    data = data.groupby(['lat', 'lon', 'clusters_'+ str(k)]).agg('count').reset_index()\n",
    "    map_data = [dict(\n",
    "        type = 'scattergeo',\n",
    "        locationmode = 'USA-states',\n",
    "        lat = data['lat'],\n",
    "        lon = data['lon'],\n",
    "        mode = 'markers',\n",
    "        marker = dict(\n",
    "            size = data[data.columns[3]],\n",
    "            opacity = 0.8,\n",
    "            reversescale = True,\n",
    "            autocolorscale = False,\n",
    "            symbol = 'circle',\n",
    "            line = dict(\n",
    "                width=1,\n",
    "                color='rgba(102, 102, 102)'\n",
    "            ),\n",
    "            color = data['clusters_' + str(k)],\n",
    "\n",
    "        ))]\n",
    "\n",
    "    layout = dict(\n",
    "            title = 'Assigned Clusters (k = ' + str(k) + ')',\n",
    "            geo = dict(\n",
    "                scope='usa',\n",
    "                #projection=dict( type='albers usa' ),\n",
    "                showland = True,\n",
    "                landcolor = \"rgb(250, 250, 250)\",\n",
    "                subunitcolor = \"rgb(217, 217, 217)\",\n",
    "                countrycolor = \"rgb(217, 217, 217)\",\n",
    "                countrywidth = 0.5,\n",
    "                subunitwidth = 0.5\n",
    "            ),\n",
    "        )\n",
    "\n",
    "    fig = dict(data=map_data, layout=layout)\n",
    "    return fig"
   ]
  },
  {
   "cell_type": "markdown",
   "metadata": {},
   "source": [
    "If $k=2$, we see a division between the eastern and western US"
   ]
  },
  {
   "cell_type": "code",
   "execution_count": 86,
   "metadata": {
    "scrolled": false
   },
   "outputs": [
    {
     "data": {
      "text/html": [
       "<iframe id=\"igraph\" scrolling=\"no\" style=\"border:none;\" seamless=\"seamless\" src=\"https://plot.ly/~sathvikn/88.embed\" height=\"525px\" width=\"100%\"></iframe>"
      ],
      "text/plain": [
       "<plotly.tools.PlotlyDisplay object>"
      ]
     },
     "execution_count": 86,
     "metadata": {},
     "output_type": "execute_result"
    }
   ],
   "source": [
    "py.iplot(map_clusters(2, ll_data))"
   ]
  },
  {
   "cell_type": "markdown",
   "metadata": {},
   "source": [
    "If $k = 3$, we see a distinction between Eastern US, Southwestern US, Western US"
   ]
  },
  {
   "cell_type": "code",
   "execution_count": 117,
   "metadata": {},
   "outputs": [
    {
     "data": {
      "text/html": [
       "<iframe id=\"igraph\" scrolling=\"no\" style=\"border:none;\" seamless=\"seamless\" src=\"https://plot.ly/~sathvikn/74.embed\" height=\"525px\" width=\"100%\"></iframe>"
      ],
      "text/plain": [
       "<plotly.tools.PlotlyDisplay object>"
      ]
     },
     "execution_count": 117,
     "metadata": {},
     "output_type": "execute_result"
    }
   ],
   "source": [
    "py.iplot(map_clusters(3, ll_data))"
   ]
  },
  {
   "cell_type": "markdown",
   "metadata": {},
   "source": [
    "If $k = 4$, clusters are roughly in Northern CA/Pacific NW, Southern CA, AZ, UT, Midwestern US, Eastern US"
   ]
  },
  {
   "cell_type": "code",
   "execution_count": 119,
   "metadata": {},
   "outputs": [
    {
     "data": {
      "text/html": [
       "<iframe id=\"igraph\" scrolling=\"no\" style=\"border:none;\" seamless=\"seamless\" src=\"https://plot.ly/~sathvikn/78.embed\" height=\"525px\" width=\"100%\"></iframe>"
      ],
      "text/plain": [
       "<plotly.tools.PlotlyDisplay object>"
      ]
     },
     "execution_count": 119,
     "metadata": {},
     "output_type": "execute_result"
    }
   ],
   "source": [
    "py.iplot(map_clusters(4, ll_data))"
   ]
  },
  {
   "cell_type": "markdown",
   "metadata": {},
   "source": [
    "Let's now try limiting our analysis to the state of California to find clusters within the state."
   ]
  },
  {
   "cell_type": "code",
   "execution_count": 25,
   "metadata": {},
   "outputs": [
    {
     "data": {
      "image/png": "[encoded data removed]",
      "text/plain": [
       "<matplotlib.figure.Figure at 0x1a22eded30>"
      ]
     },
     "metadata": {},
     "output_type": "display_data"
    }
   ],
   "source": [
    "ca_data = coords_fips[coords_fips['state']=='CA'][features]\n",
    "plot_elbow(ca_data)"
   ]
  },
  {
   "cell_type": "markdown",
   "metadata": {},
   "source": [
    "Again, the optimal number of clusters appears to be around 3 or 4. "
   ]
  },
  {
   "cell_type": "code",
   "execution_count": 47,
   "metadata": {},
   "outputs": [
    {
     "name": "stdout",
     "output_type": "stream",
     "text": [
      "Counter({0: 493, 1: 275})\n",
      "Counter({1: 389, 0: 231, 2: 148})\n",
      "Counter({0: 386, 1: 229, 2: 107, 3: 46})\n"
     ]
    },
    {
     "data": {
      "image/png": "[encoded data removed]",
      "text/plain": [
       "<matplotlib.figure.Figure at 0x1a246f7358>"
      ]
     },
     "metadata": {},
     "output_type": "display_data"
    }
   ],
   "source": [
    "ca_2 = plot_clusters(2, ca_data)\n",
    "ca_3 = plot_clusters(3, ca_data)\n",
    "ca_4 = plot_clusters(4, ca_data)"
   ]
  },
  {
   "cell_type": "code",
   "execution_count": 48,
   "metadata": {},
   "outputs": [],
   "source": [
    "args = [('clusters_2', ca_2), ('clusters_3', ca_3), ('clusters_4', ca_4)]\n",
    "for t in args:\n",
    "    add_cluster_col(t[0], t[1], ca_data)"
   ]
  },
  {
   "cell_type": "code",
   "execution_count": 50,
   "metadata": {},
   "outputs": [
    {
     "data": {
      "text/html": [
       "<iframe id=\"igraph\" scrolling=\"no\" style=\"border:none;\" seamless=\"seamless\" src=\"https://plot.ly/~sathvikn/82.embed\" height=\"525px\" width=\"100%\"></iframe>"
      ],
      "text/plain": [
       "<plotly.tools.PlotlyDisplay object>"
      ]
     },
     "execution_count": 50,
     "metadata": {},
     "output_type": "execute_result"
    }
   ],
   "source": [
    "py.iplot(map_clusters(2, ca_data))"
   ]
  },
  {
   "cell_type": "code",
   "execution_count": 51,
   "metadata": {},
   "outputs": [
    {
     "data": {
      "text/html": [
       "<iframe id=\"igraph\" scrolling=\"no\" style=\"border:none;\" seamless=\"seamless\" src=\"https://plot.ly/~sathvikn/84.embed\" height=\"525px\" width=\"100%\"></iframe>"
      ],
      "text/plain": [
       "<plotly.tools.PlotlyDisplay object>"
      ]
     },
     "execution_count": 51,
     "metadata": {},
     "output_type": "execute_result"
    }
   ],
   "source": [
    "py.iplot(map_clusters(3, ca_data))"
   ]
  },
  {
   "cell_type": "code",
   "execution_count": 87,
   "metadata": {},
   "outputs": [
    {
     "data": {
      "text/html": [
       "<iframe id=\"igraph\" scrolling=\"no\" style=\"border:none;\" seamless=\"seamless\" src=\"https://plot.ly/~sathvikn/90.embed\" height=\"525px\" width=\"100%\"></iframe>"
      ],
      "text/plain": [
       "<plotly.tools.PlotlyDisplay object>"
      ]
     },
     "execution_count": 87,
     "metadata": {},
     "output_type": "execute_result"
    }
   ],
   "source": [
    "py.iplot(map_clusters(4, ca_data))"
   ]
  },
  {
   "cell_type": "markdown",
   "metadata": {},
   "source": [
    "1. Use other features(age, immigration status, birthplace coords) as part of clustering\n",
    "2. Density-based approach"
   ]
  },
  {
   "cell_type": "code",
   "execution_count": null,
   "metadata": {},
   "outputs": [],
   "source": []
  }
 ],
 "metadata": {
  "kernelspec": {
   "display_name": "Python [conda env:datascience]",
   "language": "python",
   "name": "conda-env-datascience-py"
  },
  "language_info": {
   "codemirror_mode": {
    "name": "ipython",
    "version": 3
   },
   "file_extension": ".py",
   "mimetype": "text/x-python",
   "name": "python",
   "nbconvert_exporter": "python",
   "pygments_lexer": "ipython3",
   "version": "3.6.4"
  }
 },
 "nbformat": 4,
 "nbformat_minor": 2
}
